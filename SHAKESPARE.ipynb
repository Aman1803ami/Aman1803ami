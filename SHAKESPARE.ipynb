{
  "nbformat": 4,
  "nbformat_minor": 0,
  "metadata": {
    "colab": {
      "provenance": [],
      "authorship_tag": "ABX9TyOXMtTG5MAMUKrCNPCl5L9Q",
      "include_colab_link": true
    },
    "kernelspec": {
      "name": "python3",
      "display_name": "Python 3"
    },
    "language_info": {
      "name": "python"
    }
  },
  "cells": [
    {
      "cell_type": "markdown",
      "metadata": {
        "id": "view-in-github",
        "colab_type": "text"
      },
      "source": [
        "<a href=\"https://colab.research.google.com/github/Aman1803ami/Aman1803ami/blob/main/SHAKESPARE.ipynb\" target=\"_parent\"><img src=\"https://colab.research.google.com/assets/colab-badge.svg\" alt=\"Open In Colab\"/></a>"
      ]
    },
    {
      "cell_type": "code",
      "execution_count": null,
      "metadata": {
        "id": "l3ezPryTeUaY"
      },
      "outputs": [],
      "source": [
        "import random\n",
        "import numpy as np\n",
        "import pandas as pd\n",
        "import tensorflow as tf\n",
        "from  tensorflow.keras.models import Sequential\n",
        "from tensorflow.keras.layers import Dense,LSTM,Activation\n",
        "from tensorflow.keras.optimizers import RMSprop"
      ]
    },
    {
      "cell_type": "code",
      "source": [
        "filepath = tf.keras.utils.get_file('shakespeare.txt','https://storage.googleapis.com/download.tensorflow.org/data/shakespeare.txt')"
      ],
      "metadata": {
        "colab": {
          "base_uri": "https://localhost:8080/"
        },
        "id": "FiBRlVaLf8z3",
        "outputId": "0d645ea8-af54-45f0-d9a9-3d1713b80151"
      },
      "execution_count": null,
      "outputs": [
        {
          "output_type": "stream",
          "name": "stdout",
          "text": [
            "Downloading data from https://storage.googleapis.com/download.tensorflow.org/data/shakespeare.txt\n",
            "\u001b[1m1115394/1115394\u001b[0m \u001b[32m━━━━━━━━━━━━━━━━━━━━\u001b[0m\u001b[37m\u001b[0m \u001b[1m0s\u001b[0m 0us/step\n"
          ]
        }
      ]
    },
    {
      "cell_type": "code",
      "source": [
        "text = open(filepath,'rb').read().decode(encoding='utf-8').lower()\n",
        "text = text[300000:800000]\n",
        "characters = sorted(set(text))\n",
        "char_to_index = dict((c,i) for i,c in enumerate(characters))\n",
        "index_to_char = dict((i,c) for i,c in enumerate(characters))\n"
      ],
      "metadata": {
        "id": "SgQOjQH2gats"
      },
      "execution_count": null,
      "outputs": []
    },
    {
      "cell_type": "code",
      "source": [
        "SEQ_LENGTH= 40\n",
        "step_size = 3\n",
        "sentences = []\n",
        "next_characters = []"
      ],
      "metadata": {
        "id": "WxMdfHDau0jl"
      },
      "execution_count": null,
      "outputs": []
    },
    {
      "cell_type": "code",
      "source": [
        "for i in range(0, len(text) - SEQ_LENGTH, step_size):\n",
        " sentences.append(text[i: i+SEQ_LENGTH])\n",
        " next_characters.append(text [i+SEQ_LENGTH])\n",
        "x = np.zeros((len(sentences), SEQ_LENGTH, len(characters)), dtype=bool)\n",
        "y = np.zeros((len(sentences), len(characters)), dtype=bool)\n",
        "for i, sentence in enumerate (sentences):\n",
        " for t, character in enumerate (sentence):\n",
        "   x[i, t, char_to_index [character]] = 1\n",
        " y[i, char_to_index[next_characters[i]]] = 1"
      ],
      "metadata": {
        "id": "gobKwBgfQpiC"
      },
      "execution_count": null,
      "outputs": []
    },
    {
      "cell_type": "code",
      "source": [
        "model = Sequential()\n",
        "model.add(LSTM(128, input_shape=(SEQ_LENGTH, len(characters))))\n",
        "model.add(Dense(len(characters)))\n",
        "model.add(Activation('softmax'))\n",
        "model.compile(loss='categorical_crossentropy', optimizer=RMSprop(learning_rate=0.01))\n",
        "model.fit(x, y, batch_size=256, epochs=4)"
      ],
      "metadata": {
        "colab": {
          "base_uri": "https://localhost:8080/"
        },
        "id": "KvsahzYQT0kf",
        "outputId": "c7c9df98-b8e1-4c74-d4f7-ef23594f1f06"
      },
      "execution_count": null,
      "outputs": [
        {
          "output_type": "stream",
          "name": "stderr",
          "text": [
            "/usr/local/lib/python3.11/dist-packages/keras/src/layers/rnn/rnn.py:204: UserWarning: Do not pass an `input_shape`/`input_dim` argument to a layer. When using Sequential models, prefer using an `Input(shape)` object as the first layer in the model instead.\n",
            "  super().__init__(**kwargs)\n"
          ]
        },
        {
          "output_type": "stream",
          "name": "stdout",
          "text": [
            "Epoch 1/4\n",
            "\u001b[1m3255/3255\u001b[0m \u001b[32m━━━━━━━━━━━━━━━━━━━━\u001b[0m\u001b[37m\u001b[0m \u001b[1m621s\u001b[0m 190ms/step - loss: 2.0074\n",
            "Epoch 2/4\n",
            "\u001b[1m3255/3255\u001b[0m \u001b[32m━━━━━━━━━━━━━━━━━━━━\u001b[0m\u001b[37m\u001b[0m \u001b[1m612s\u001b[0m 188ms/step - loss: 1.4167\n",
            "Epoch 3/4\n",
            "\u001b[1m3255/3255\u001b[0m \u001b[32m━━━━━━━━━━━━━━━━━━━━\u001b[0m\u001b[37m\u001b[0m \u001b[1m625s\u001b[0m 189ms/step - loss: 1.3277\n",
            "Epoch 4/4\n",
            "\u001b[1m3255/3255\u001b[0m \u001b[32m━━━━━━━━━━━━━━━━━━━━\u001b[0m\u001b[37m\u001b[0m \u001b[1m627s\u001b[0m 191ms/step - loss: 1.2788\n"
          ]
        },
        {
          "output_type": "execute_result",
          "data": {
            "text/plain": [
              "<keras.src.callbacks.history.History at 0x78015abaecd0>"
            ]
          },
          "metadata": {},
          "execution_count": 16
        }
      ]
    },
    {
      "cell_type": "code",
      "source": [
        "def sample (preds, temperature=1.0):\n",
        " preds = np.asarray(preds).astype('float64')\n",
        " preds = np.log(preds) / temperature\n",
        " exp_preds = np.exp(preds)\n",
        " preds = exp_preds/ np.sum(exp_preds)\n",
        " probas = np.random.multinomial (1, preds, 1)\n",
        " return np.argmax(probas)"
      ],
      "metadata": {
        "id": "WmHT1QbsfufH"
      },
      "execution_count": null,
      "outputs": []
    },
    {
      "cell_type": "code",
      "source": [
        "def generate_text(length, temperature):\n",
        " start_index = random.randint(0,len(text)- SEQ_LENGTH-1)\n",
        " generated =''\n",
        " sentence = text [start_index: start_index + SEQ_LENGTH]\n",
        " generated += sentence\n",
        " for i in range(length):\n",
        "   x = np.zeros((1, SEQ_LENGTH, len(characters)))\n",
        "   for t, character in enumerate(sentence):\n",
        "       x[0, t, char_to_index [character]] = 1\n",
        "   predictions = model.predict(x, verbose=0)[0]\n",
        "   next_index = sample (predictions, temperature)\n",
        "   next_character = index_to_char[next_index]\n",
        "   generated += next_character\n",
        "   sentence = sentence [1:] + next_character\n",
        "   return generated"
      ],
      "metadata": {
        "id": "csXiwQsff8BU"
      },
      "execution_count": null,
      "outputs": []
    },
    {
      "cell_type": "code",
      "source": [
        "print('----0.2----')\n",
        "print (generate_text(300, 0.2))\n",
        "print(' -0.4- -')\n",
        "print(generate_text(300, 0.2))\n",
        "print(' -0.6---------')\n",
        "print (generate_text(300, 0.2))\n",
        "print(' -- 0.8- -')\n",
        "print (generate_text(300, 0.2))\n",
        "print('--0.2---------')\n",
        "print (generate_text(300, 0.2))"
      ],
      "metadata": {
        "colab": {
          "base_uri": "https://localhost:8080/"
        },
        "id": "5ZL1BYSKh2Sd",
        "outputId": "6abf4862-cf19-43d7-e4dd-ddb396059cbe"
      },
      "execution_count": null,
      "outputs": [
        {
          "output_type": "stream",
          "name": "stdout",
          "text": [
            "----0.2----\n",
            "him say so then, and let him go;\n",
            "but let \n",
            " -0.4- -\n",
            " happy always was it for that son\n",
            "whose h\n",
            " -0.6---------\n",
            " death servile breath.\n",
            "\n",
            "duke of aumerle:\n",
            "\n",
            " -- 0.8- -\n",
            "ill i hence and die:\n",
            "the last leave of th\n",
            "--0.2---------\n",
            "nd:\n",
            "sometime the flood prevails, and ther\n"
          ]
        }
      ]
    }
  ]
}